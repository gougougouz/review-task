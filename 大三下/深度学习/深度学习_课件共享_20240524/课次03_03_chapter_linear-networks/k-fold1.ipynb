{
 "cells": [
  {
   "cell_type": "code",
   "execution_count": null,
   "id": "b463c0fa",
   "metadata": {},
   "outputs": [],
   "source": []
  },
  {
   "cell_type": "code",
   "execution_count": 1,
   "id": "294838bf",
   "metadata": {},
   "outputs": [],
   "source": [
    "import torch\n",
    "import torchvision\n",
    "from torch.utils.data import DataLoader, Subset\n",
    "from torchvision import transforms\n",
    "from sklearn.model_selection import KFold\n",
    "from d2l import torch as d2l\n"
   ]
  },
  {
   "cell_type": "code",
   "execution_count": 2,
   "id": "d88557a6",
   "metadata": {},
   "outputs": [],
   "source": [
    "# 数据预处理\n",
    "trans = transforms.ToTensor()\n",
    "mnist_train = torchvision.datasets.FashionMNIST(\n",
    "    root=\"../data\", train=True, transform=trans, download=True)\n",
    "mnist_test = torchvision.datasets.FashionMNIST(\n",
    "    root=\"../data\", train=False, transform=trans, download=True)\n",
    " \n"
   ]
  },
  {
   "cell_type": "code",
   "execution_count": 3,
   "id": "44c2f511",
   "metadata": {},
   "outputs": [],
   "source": [
    "# 定义简单神经网络模型\n",
    "class SimpleModel(torch.nn.Module):\n",
    "    def __init__(self):\n",
    "        super().__init__()\n",
    "        self.flatten = torch.nn.Flatten()\n",
    "        self.linear_relu_stack = torch.nn.Sequential(\n",
    "            torch.nn.Linear(28*28, 512),\n",
    "            torch.nn.ReLU(),\n",
    "            torch.nn.Linear(512, 512),\n",
    "            torch.nn.ReLU(),\n",
    "            torch.nn.Linear(512, 10),\n",
    "        )\n",
    " \n",
    "    def forward(self, x):\n",
    "        x = self.flatten(x)\n",
    "        logits = self.linear_relu_stack(x)\n",
    "        return logits\n",
    " \n"
   ]
  },
  {
   "cell_type": "code",
   "execution_count": 4,
   "id": "5feb3009",
   "metadata": {},
   "outputs": [],
   "source": [
    "# K折交叉验证设置\n",
    "k = 5\n",
    "kf = KFold(n_splits=k, shuffle=True, random_state=42)\n",
    "device = torch.device(\"cuda\" if torch.cuda.is_available() else \"cpu\")\n"
   ]
  },
  {
   "cell_type": "code",
   "execution_count": 5,
   "id": "7c7c2337",
   "metadata": {},
   "outputs": [],
   "source": [
    "# 训练和验证循环\n",
    "def train_and_validate(model, train_loader, val_loader, num_epochs=10):\n",
    "    criterion = torch.nn.CrossEntropyLoss()\n",
    "    optimizer = torch.optim.Adam(model.parameters(), lr=1e-3)\n",
    "     \n",
    "    for epoch in range(num_epochs):\n",
    "        model.train()\n",
    "        for X, y in train_loader:\n",
    "            X, y = X.to(device), y.to(device)\n",
    "            optimizer.zero_grad()\n",
    "            outputs = model(X)\n",
    "            loss = criterion(outputs, y)\n",
    "            loss.backward()\n",
    "            optimizer.step()\n",
    "     \n",
    "    model.eval()\n",
    "    correct, total = 0, 0\n",
    "    with torch.no_grad():\n",
    "        for X, y in val_loader:\n",
    "            X, y = X.to(device), y.to(device)\n",
    "            outputs = model(X)\n",
    "            _, predicted = torch.max(outputs.data, 1)\n",
    "            total += y.size(0)\n",
    "            correct += (predicted == y).sum().item()\n",
    "    return correct / total\n",
    " \n"
   ]
  },
  {
   "cell_type": "code",
   "execution_count": 6,
   "id": "d0ad8eec",
   "metadata": {},
   "outputs": [
    {
     "name": "stdout",
     "output_type": "stream",
     "text": [
      "\n",
      "Fold 1\n",
      "Fold 1 Validation Accuracy: 88.60%\n",
      "\n",
      "Fold 2\n",
      "Fold 2 Validation Accuracy: 89.33%\n",
      "\n",
      "Fold 3\n",
      "Fold 3 Validation Accuracy: 89.79%\n",
      "\n",
      "Fold 4\n",
      "Fold 4 Validation Accuracy: 89.38%\n",
      "\n",
      "Fold 5\n",
      "Fold 5 Validation Accuracy: 89.36%\n",
      "\n",
      "K-Fold Cross Validation Results:\n",
      "Fold 1: 88.60%\n",
      "Fold 2: 89.33%\n",
      "Fold 3: 89.79%\n",
      "Fold 4: 89.38%\n",
      "Fold 5: 89.36%\n",
      "Average Accuracy: 89.29%\n"
     ]
    }
   ],
   "source": [
    "fold_accuracies = []\n",
    "for fold, (train_idx, val_idx) in enumerate(kf.split(mnist_train)):\n",
    "    print(f\"\\nFold {fold + 1}\")\n",
    "     \n",
    "    # 创建数据加载器\n",
    "    train_subset = Subset(mnist_train, train_idx)\n",
    "    val_subset = Subset(mnist_train, val_idx)\n",
    "     \n",
    "    train_loader = DataLoader(train_subset, batch_size=256, shuffle=True, num_workers=4)\n",
    "    val_loader = DataLoader(val_subset, batch_size=256, shuffle=False, num_workers=4)\n",
    "     \n",
    "    # 初始化模型\n",
    "    model = SimpleModel().to(device)\n",
    "     \n",
    "    # 训练并验证\n",
    "    accuracy = train_and_validate(model, train_loader, val_loader)\n",
    "    fold_accuracies.append(accuracy)\n",
    "    print(f\"Fold {fold+1} Validation Accuracy: {accuracy*100:.2f}%\")\n",
    " \n",
    "# 输出结果\n",
    "print(\"\\nK-Fold Cross Validation Results:\")\n",
    "for fold, acc in enumerate(fold_accuracies):\n",
    "    print(f\"Fold {fold+1}: {acc*100:.2f}%\")\n",
    "print(f\"Average Accuracy: {sum(fold_accuracies)/k*100:.2f}%\")\n"
   ]
  },
  {
   "cell_type": "code",
   "execution_count": null,
   "id": "a965100d",
   "metadata": {},
   "outputs": [],
   "source": []
  }
 ],
 "metadata": {
  "kernelspec": {
   "display_name": "d2l",
   "language": "python",
   "name": "python3"
  },
  "language_info": {
   "codemirror_mode": {
    "name": "ipython",
    "version": 3
   },
   "file_extension": ".py",
   "mimetype": "text/x-python",
   "name": "python",
   "nbconvert_exporter": "python",
   "pygments_lexer": "ipython3",
   "version": "3.10.16"
  }
 },
 "nbformat": 4,
 "nbformat_minor": 5
}
