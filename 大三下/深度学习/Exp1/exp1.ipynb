{
 "cells": [
  {
   "cell_type": "code",
   "execution_count": 1,
   "id": "d8777629",
   "metadata": {},
   "outputs": [
    {
     "name": "stdout",
     "output_type": "stream",
     "text": [
      "PyTorch版本: 2.0.1\n",
      "✅ CUDA可用\n",
      "当前GPU设备: 0\n",
      "GPU设备名称: NVIDIA GeForce RTX 3050 Ti Laptop GPU\n",
      "CUDA版本: 11.8\n",
      "\n",
      "正在执行GPU计算测试...\n",
      "GPU计算测试完成，结果: tensor([[-0.1459, -1.7754,  1.3998],\n",
      "        [-0.9251,  2.2663, -0.7623],\n",
      "        [-3.4259,  1.5211, -2.4725]], device='cuda:0')\n",
      "✅ CUDA同步测试通过\n",
      "\n",
      "显存使用情况:\n",
      "已分配: 0.00 MB\n",
      "已缓存: 2.00 MB\n"
     ]
    }
   ],
   "source": [
    "import torch\n",
    "\n",
    "def test_gpu_availability():\n",
    "    # 检查CUDA是否可用\n",
    "    if torch.cuda.is_available():\n",
    "        print(\"✅ CUDA可用\")\n",
    "        print(f\"当前GPU设备: {torch.cuda.current_device()}\")\n",
    "        print(f\"GPU设备名称: {torch.cuda.get_device_name(0)}\")\n",
    "        print(f\"CUDA版本: {torch.version.cuda}\")\n",
    "        \n",
    "        # 测试张量计算\n",
    "        print(\"\\n正在执行GPU计算测试...\")\n",
    "        x = torch.randn(3, 3).cuda()\n",
    "        y = torch.randn(3, 3).cuda()\n",
    "        z = x + y\n",
    "        print(\"GPU计算测试完成，结果:\", z)\n",
    "        \n",
    "        # 测试CUDA同步\n",
    "        torch.cuda.synchronize()\n",
    "        print(\"✅ CUDA同步测试通过\")\n",
    "        \n",
    "        # 显存信息\n",
    "        print(f\"\\n显存使用情况:\")\n",
    "        print(f\"已分配: {torch.cuda.memory_allocated()/1024**2:.2f} MB\")\n",
    "        print(f\"已缓存: {torch.cuda.memory_reserved()/1024**2:.2f} MB\")\n",
    "        \n",
    "    else:\n",
    "        print(\"❌ CUDA不可用，请检查:\")\n",
    "        print(\"1. 是否安装了NVIDIA显卡驱动\")\n",
    "        print(\"2. 是否安装了与PyTorch版本匹配的CUDA工具包\")\n",
    "        print(\"3. 是否安装了cuDNN\")\n",
    "        print(\"4. 您的显卡是否支持CUDA（可通过nvidia-smi检查）\")\n",
    "\n",
    "if __name__ == \"__main__\":\n",
    "    print(f\"PyTorch版本: {torch.__version__}\")\n",
    "    test_gpu_availability()"
   ]
  },
  {
   "cell_type": "code",
   "execution_count": 1,
   "id": "9bc0ad42",
   "metadata": {},
   "outputs": [
    {
     "name": "stdout",
     "output_type": "stream",
     "text": [
      "2.0.1\n",
      "11.8\n",
      "True\n"
     ]
    }
   ],
   "source": [
    "\n",
    "import torch\n",
    " \n",
    "print(torch.__version__)\n",
    "print(torch.version.cuda)\n",
    "print(torch.cuda.is_available())"
   ]
  }
 ],
 "metadata": {
  "kernelspec": {
   "display_name": "zjwpython310",
   "language": "python",
   "name": "python3"
  },
  "language_info": {
   "codemirror_mode": {
    "name": "ipython",
    "version": 3
   },
   "file_extension": ".py",
   "mimetype": "text/x-python",
   "name": "python",
   "nbconvert_exporter": "python",
   "pygments_lexer": "ipython3",
   "version": "3.10.16"
  }
 },
 "nbformat": 4,
 "nbformat_minor": 5
}
